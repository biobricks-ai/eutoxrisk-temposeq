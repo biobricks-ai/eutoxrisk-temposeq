{
 "cells": [
  {
   "cell_type": "code",
   "execution_count": 38,
   "metadata": {},
   "outputs": [
    {
     "data": {
      "text/plain": [
       "'1.1.3'"
      ]
     },
     "execution_count": 38,
     "metadata": {},
     "output_type": "execute_result"
    }
   ],
   "source": [
    "import gseapy\n",
    "gseapy.__version__"
   ]
  },
  {
   "cell_type": "code",
   "execution_count": 39,
   "metadata": {},
   "outputs": [
    {
     "name": "stdout",
     "output_type": "stream",
     "text": [
      "Defaulting to user installation because normal site-packages is not writeable\n",
      "Requirement already satisfied: rdflib in /home/vscode/.local/lib/python3.9/site-packages (7.0.0)\n",
      "Requirement already satisfied: pyparsing<4,>=2.1.0 in /home/vscode/.local/lib/python3.9/site-packages (from rdflib) (3.1.4)\n",
      "Requirement already satisfied: isodate<0.7.0,>=0.6.0 in /home/vscode/.local/lib/python3.9/site-packages (from rdflib) (0.6.1)\n",
      "Requirement already satisfied: six in /home/vscode/.local/lib/python3.9/site-packages (from isodate<0.7.0,>=0.6.0->rdflib) (1.16.0)\n",
      "\n",
      "\u001b[1m[\u001b[0m\u001b[34;49mnotice\u001b[0m\u001b[1;39;49m]\u001b[0m\u001b[39;49m A new release of pip is available: \u001b[0m\u001b[31;49m23.0.1\u001b[0m\u001b[39;49m -> \u001b[0m\u001b[32;49m24.2\u001b[0m\n",
      "\u001b[1m[\u001b[0m\u001b[34;49mnotice\u001b[0m\u001b[1;39;49m]\u001b[0m\u001b[39;49m To update, run: \u001b[0m\u001b[32;49mpip install --upgrade pip\u001b[0m\n",
      "Defaulting to user installation because normal site-packages is not writeable\n",
      "Requirement already satisfied: rdflib-hdt in /home/vscode/.local/lib/python3.9/site-packages (3.1)\n",
      "Requirement already satisfied: rdflib>=4.2 in /home/vscode/.local/lib/python3.9/site-packages (from rdflib-hdt) (7.0.0)\n",
      "Requirement already satisfied: pybind11>=2.2.4 in /home/vscode/.local/lib/python3.9/site-packages (from rdflib-hdt) (2.13.6)\n",
      "Requirement already satisfied: isodate<0.7.0,>=0.6.0 in /home/vscode/.local/lib/python3.9/site-packages (from rdflib>=4.2->rdflib-hdt) (0.6.1)\n",
      "Requirement already satisfied: pyparsing<4,>=2.1.0 in /home/vscode/.local/lib/python3.9/site-packages (from rdflib>=4.2->rdflib-hdt) (3.1.4)\n",
      "Requirement already satisfied: six in /home/vscode/.local/lib/python3.9/site-packages (from isodate<0.7.0,>=0.6.0->rdflib>=4.2->rdflib-hdt) (1.16.0)\n",
      "\n",
      "\u001b[1m[\u001b[0m\u001b[34;49mnotice\u001b[0m\u001b[1;39;49m]\u001b[0m\u001b[39;49m A new release of pip is available: \u001b[0m\u001b[31;49m23.0.1\u001b[0m\u001b[39;49m -> \u001b[0m\u001b[32;49m24.2\u001b[0m\n",
      "\u001b[1m[\u001b[0m\u001b[34;49mnotice\u001b[0m\u001b[1;39;49m]\u001b[0m\u001b[39;49m To update, run: \u001b[0m\u001b[32;49mpip install --upgrade pip\u001b[0m\n"
     ]
    }
   ],
   "source": [
    "!pip install rdflib\n",
    "!pip install rdflib-hdt\n",
    "#!biobricks install wikipathways\n",
    "#!biobricks install eutoxrisk-temposeq"
   ]
  },
  {
   "cell_type": "code",
   "execution_count": 40,
   "metadata": {},
   "outputs": [],
   "source": [
    "import pandas as pd\n",
    "#import biobricks as bb\n",
    "from rdflib import Graph, Namespace\n",
    "from rdflib.plugins.stores import sparqlstore\n",
    "from rdflib_hdt import HDTStore\n",
    "from rdflib.namespace import RDF, XSD, DCTERMS\n",
    "import rdflib\n",
    "from tqdm import tqdm"
   ]
  },
  {
   "cell_type": "code",
   "execution_count": 41,
   "metadata": {},
   "outputs": [
    {
     "data": {
      "text/plain": [
       "Index(['Study', 'Treatment compound', 'Treatment concentration',\n",
       "       'Treatment timepoint', 'Control compound', 'Control concentration',\n",
       "       'Control timepoint', 'Filename', 'Case study', 'Index in compound list',\n",
       "       'Comments', 'Parent compound', 'Harris's Preferred Name (ChEMBL/ECHA)',\n",
       "       'SMILES', 'InChI key', 'CAS number', 'Starting substance',\n",
       "       'Barbara's prefered name', 'Alternative name',\n",
       "       'Starting substance SMILES', 'Starting substance CAS number',\n",
       "       'Supplier', 'Cat no', 'Lot no', 'Form', 'Storage pure compound',\n",
       "       'Solvent', 'Stock concentration', 'Stock concentration unit',\n",
       "       'Stock aliquot storage', 'Purity', 'Molar weight', 'Molecular formula',\n",
       "       'MDLNUM', 'Code', 'Dataset id'],\n",
       "      dtype='object')"
      ]
     },
     "execution_count": 41,
     "metadata": {},
     "output_type": "execute_result"
    }
   ],
   "source": [
    "# Connect studies, compounds and temposeq dataset id\n",
    "df_overview = pd.read_csv(\"../download/overview.csv\")\n",
    "df_overview.columns"
   ]
  },
  {
   "cell_type": "code",
   "execution_count": 42,
   "metadata": {},
   "outputs": [],
   "source": [
    "inchi_to_compound_dict = df_overview[['Treatment compound', 'InChI key']].set_index(\"InChI key\")['Treatment compound'].to_dict()\n",
    "inchi_to_compound_dict_without_underscores = df_overview[['Treatment compound', 'InChI key']].set_index(\"InChI key\")['Treatment compound'].str.replace('_', ' ').to_dict()"
   ]
  },
  {
   "cell_type": "code",
   "execution_count": 43,
   "metadata": {},
   "outputs": [],
   "source": [
    "# Connect genes and pathways\n",
    "df_pathways = pd.read_csv(\"../download/pathways.csv\")"
   ]
  },
  {
   "cell_type": "code",
   "execution_count": 44,
   "metadata": {},
   "outputs": [
    {
     "name": "stderr",
     "output_type": "stream",
     "text": [
      "0it [00:00, ?it/s]"
     ]
    },
    {
     "name": "stderr",
     "output_type": "stream",
     "text": [
      "2336it [00:25, 90.46it/s] \n"
     ]
    }
   ],
   "source": [
    "# compound to gene relationship\n",
    "compound_to_gene_list = []\n",
    "\n",
    "\n",
    "for _, row in tqdm(df_overview.iterrows()):\n",
    "    dataset_id = row['Dataset id']\n",
    "    d = row.to_dict()\n",
    "\n",
    "    try:\n",
    "        data_frame = pd.read_csv(\"../download/temposeq/{0}.csv\".format(dataset_id))\n",
    "        \n",
    "        LOG_FOLD_CHANGE_THRESHOLD = 2\n",
    "        ADJUSTED_P_VALUE_THRESHOLD = 0.05\n",
    "\n",
    "        is_positive_significant_fold_change = (data_frame['logFC'] > LOG_FOLD_CHANGE_THRESHOLD)\n",
    "        is_negative_significant_fold_change = (data_frame['logFC'] < -LOG_FOLD_CHANGE_THRESHOLD)\n",
    "    \n",
    "        is_significant_p_value = data_frame['padj'] < ADJUSTED_P_VALUE_THRESHOLD\n",
    "    \n",
    "        d['positive deregulated genes'] = data_frame[is_positive_significant_fold_change & is_significant_p_value]['SYMBOL'].tolist()\n",
    "        d['negative deregulated genes'] = data_frame[is_negative_significant_fold_change & is_significant_p_value]['SYMBOL'].tolist()\n",
    "\n",
    "        compound_to_gene_list.append(d)\n",
    "    except:\n",
    "        pass"
   ]
  },
  {
   "cell_type": "code",
   "execution_count": 51,
   "metadata": {},
   "outputs": [
    {
     "name": "stdout",
     "output_type": "stream",
     "text": [
      "Graph has 9641 nodes.\n",
      "Graph has 46527 statements.\n"
     ]
    }
   ],
   "source": [
    "g = rdflib.Graph()\n",
    "context = []\n",
    "\n",
    "# namespaces\n",
    "nm = g.namespace_manager\n",
    "\n",
    "sio, prefix = rdflib.Namespace(\"http://semanticscience.org/resource/SIO/\"), \"sio\"\n",
    "nm.bind(prefix, sio)\n",
    "\n",
    "cheminf, prefix = rdflib.Namespace(\"http://semanticscience.org/resource/CHEMINF/\"), \"cheminf\"\n",
    "nm.bind(prefix, cheminf)\n",
    "\n",
    "wp, prefix = rdflib.Namespace(\"http://vocabularies.wikipathways.org/wpTypes#\"), \"wp\"\n",
    "nm.bind(prefix, wp)\n",
    "\n",
    "bp, prefix = rdflib.Namespace(\"http://www.biopax.org/release/biopax-level3.owl#\"), \"bp\"\n",
    "nm.bind(prefix, bp)\n",
    "\n",
    "bao, prefix = rdflib.Namespace(\"http://www.bioassayontology.org/bao#\"), \"bao\"\n",
    "nm.bind(prefix, bao)\n",
    "\n",
    "metago, prefix = rdflib.Namespace(\"http://model.geneontology.org/\"), \"metago\"\n",
    "nm.bind(prefix, metago)\n",
    "\n",
    "# Graph is built from triplets of (subject, predicate, object)\n",
    "\n",
    "# Compounds\n",
    "for inchikey in df_overview['InChI key'].unique():\n",
    "    s = rdflib.URIRef(\"inchikey:{0}\".format(inchikey))\n",
    "    \n",
    "    # inchikey object has value of #inchikey\n",
    "    # (InChIKey, sio:SIO_000300 (has value), InChIKeyValue)\n",
    "    p = sio.SIO_000300\n",
    "    o = rdflib.Literal(inchikey, datatype=XSD.string)\n",
    "    g.add((s, p, o))\n",
    "    # inchikey object is type of inchikey\n",
    "    # InChIKey, rdf:type cheminf:CHEMINF_000399)\n",
    "    p = RDF.type\n",
    "    o = cheminf.CHEMINF_000399\n",
    "    g.add((s, p, o))\n",
    "\n",
    "    # (InChIKey, sio:SIO_000011 (is attribute of), Compound)\n",
    "    p = sio.SIO_000011\n",
    "    o = rdflib.URIRef(\"compound:{0}\".format(inchi_to_compound_dict[inchikey]))\n",
    "    g.add((s, p, o))\n",
    "    #context.append(\"Compound {0} has InChIKey {1}.\".format(inchi_to_compound_dict_without_underscores[inchikey], inchikey))\n",
    "\n",
    "\n",
    "# Genes\n",
    "for gene_symbol in df_pathways.Genes.unique():\n",
    "    # gene is type of gene\n",
    "    s = rdflib.URIRef(\"gene:{0}\".format(gene_symbol))\n",
    "    p = RDF.type\n",
    "    o = wp.GeneProduct #sio.SIO_010035 <-- what should we use? Pubchem uses SIO. WP uses wp.\n",
    "    g.add((s, p, o))\n",
    "\n",
    "    # gene has symbol\n",
    "    p = bao.BAO_0002870\n",
    "    o = rdflib.Literal(gene_symbol, datatype=XSD.string)\n",
    "    g.add((s, p, o))\n",
    "\n",
    "\n",
    "# Pathways\n",
    "for pathway_title in df_pathways.Term.unique():\n",
    "    pathway_name = pathway_title.replace(\" \", \"-\")\n",
    "\n",
    "    # pathway is type of pathway\n",
    "    s = rdflib.URIRef(\"pathway:{0}\".format(pathway_name))\n",
    "    p = RDF.type\n",
    "    o = wp.Pathway #bp.Pathway\n",
    "    g.add((s, p, o))\n",
    "\n",
    "    # pathway has title \n",
    "    p = DCTERMS.title\n",
    "    o = rdflib.Literal(pathway_title, datatype=XSD.string)\n",
    "    g.add((s, p, o))\n",
    "\n",
    "\n",
    "# Compound-gene relationship\n",
    "for row in compound_to_gene_list:\n",
    "    # one row is one compound in a particular study\n",
    "    pos_deregulated_genes = list(set(row['positive deregulated genes']))\n",
    "    neg_deregulated_genes = list(set(row['negative deregulated genes']))\n",
    "\n",
    "    inchikey = row['InChI key']\n",
    "    s =  rdflib.URIRef(\"compound:{0}\".format(inchi_to_compound_dict[inchikey]))\n",
    "    \n",
    "    for gene_symbol in pos_deregulated_genes:\n",
    "        p = metago.GO_0048521\n",
    "        o = rdflib.URIRef(\"gene:{0}\".format(gene_symbol))\n",
    "        g.add((s, p, o))\n",
    "        context.append(\"Compound {0} upregulates gene {1}.\".format(inchi_to_compound_dict_without_underscores[inchikey], gene_symbol))\n",
    "\n",
    "    for gene_symbol in neg_deregulated_genes:\n",
    "        p = metago.GO_0048522\n",
    "        o = rdflib.URIRef(\"gene:{0}\".format(gene_symbol))\n",
    "        g.add((s, p, o))\n",
    "        context.append(\"Compound {0} downregulates gene {1}.\".format(inchi_to_compound_dict_without_underscores[inchikey], gene_symbol))\n",
    "\n",
    "# Gene-Pathway relationship\n",
    "for _, row in df_pathways.iterrows():\n",
    "    gene_symbol = row['Genes']\n",
    "    pathway_title = row['Term']\n",
    "    pathway_name = pathway_title.replace(\" \", \"-\")\n",
    "\n",
    "    # Gene is part of pathway\n",
    "    # (wp:GeneProduct, DCTERMS.isPartOf, wp:Pathway)\n",
    "    s = rdflib.URIRef(\"gene:{0}\".format(gene_symbol))\n",
    "    p = DCTERMS.isPartOf\n",
    "    o = rdflib.URIRef(\"pathway:{0}\".format(pathway_name))\n",
    "    g.add((s, p, o))\n",
    "    \n",
    "    #context.append(\"Gene {0} is part of {1} pathway.\".format(gene_symbol, pathway_title))\n",
    "    \n",
    "\n",
    "print(\"Graph has {0} nodes.\".format(len(g.all_nodes())))\n",
    "print(\"Graph has {0} statements.\".format(len(g)))\n",
    "context_str = \" \".join(context)"
   ]
  },
  {
   "cell_type": "code",
   "execution_count": 52,
   "metadata": {},
   "outputs": [
    {
     "name": "stdout",
     "output_type": "stream",
     "text": [
      "46527\n",
      "1577500\n",
      "29244\n",
      "33.90504438283148\n"
     ]
    }
   ],
   "source": [
    "print(len(g))\n",
    "print(len(context_str))\n",
    "print(len(context))\n",
    "print(len(context_str) / len(g))"
   ]
  },
  {
   "cell_type": "code",
   "execution_count": 59,
   "metadata": {},
   "outputs": [
    {
     "data": {
      "text/plain": [
       "'Compound Butanone oxime upregulates gene ATAD2. Compound Butanone oxime upregulates gene LGALS1. Compound Butanone oxime upregulates gene S100A10. Compound Butanone oxime upregulates gene TP53. Compound Butanone oxime upregulates gene DDR1. Compound Butanone oxime upregulates gene PTPN1. Compound Butanone oxime upregulates gene CDCA8. Compound Butanone oxime upregulates gene S100P. Compound Butanone oxime upregulates gene CEACAM6. Compound Butanone oxime upregulates gene IFIT3. Compound Butanone oxime upregulates gene MCM10. Compound Butanone oxime upregulates gene EGR3. Compound Butanone oxime upregulates gene MSH2. Compound Butanone oxime upregulates gene SP110. Compound Butanone oxime upregulates gene CDC25A. Compound Butanone oxime upregulates gene CDCA7. Compound Butanone oxime upregulates gene CCNE2. Compound Butanone oxime upregulates gene HJURP. Compound Butanone oxime upregulates gene H2BC14. Compound Butanone oxime upregulates gene PROS1. Compound Butanone oxime upregulates gene FAM83D. Compound Butanone oxime upregulates gene GLI1. Compound Butanone oxime upregulates gene MCIDAS. Compound Butanone oxime upregulates gene IFIT1. Compound Butanone oxime upregulates gene MCM3. Compound Butanone oxime upregulates gene DNM1. Compound Butanone oxime upregulates gene VAV3. Compound Butanone oxime upregulates gene MCM4. Compound Butanone oxime upregulates gene CXCL14. Compound Butanone oxime upregulates gene PALMD. Compound Butanone oxime upregulates gene GINS1. Compound Butanone oxime upregulates gene TXNIP. Compound Butanone oxime upregulates gene SPC25. Compound Butanone oxime upregulates gene LMO3. Compound Butanone oxime downregulates gene MMP1. Compound Butanone oxime downregulates gene CXCL8. Compound Butanone oxime downregulates gene BMP6. Compound Butanone oxime downregulates gene DDIT3. Compound Butanone oxime downregulates gene LAMP3. Compound Butanone oxime downregulates gene IL13RA2. Compound Butanone oxime downregulates gene HDAC9. Compound Butanone oxime downregulates gene PPP1R15A. Compound Butanone oxime downregulates gene CCNA1. Compound Butanone oxime upregulates gene AQP3. Compound Butanone oxime upregulates gene TPRKB. Compound Butanone oxime upregulates gene HLA-C. Compound Butanone oxime upregulates gene H2BC15. Compound Butanone oxime upregulates gene HMG20B. Compound Butanone oxime upregulates gene CYP2C19. Compound Butanone oxime upregulates gene MT1X. Compound Butanone oxime upregulates gene WFS1. Compound Butanone oxime upregulates gene SERPINA3. Compound Butanone oxime upregulates gene CXCL5. Compound Butanone oxime upregulates gene RPSA. Compound Butanone oxime upregulates gene NIPSNAP1. Compound Butanone oxime upregulates gene EMX1. Compound Butanone oxime upregulates gene ODF3B. Compound Butanone oxime upregulates gene GIMAP8. Compound Butanone oxime upregulates gene MT1H. Compound Butanone oxime upregulates gene BAD. Compound Butanone oxime upregulates gene CRISP3. Compound Butanone oxime upregulates gene CHEK2. Compound Butanone oxime upregulates gene APOL3. Compound Butanone oxime upregulates gene PKIG. Compound Butanone oxime downregulates gene MOK. Compound Butanone oxime downregulates gene DLG4. Compound Butanone oxime downregulates gene ZNF586. Compound Butanone oxime downregulates gene FOXJ3. Compound Butanone oxime downregulates gene SPTLC2. Compound Butanone oxime downregulates gene KLRC2. Compound Butanone oxime upregulates gene HLA-C. Compound Butanone oxime upregulates gene ZP3. Compound Butanone oxime upregulates gene OTUD7B. Compound Butanone oxime upregulates gene CCDC92. Compound Butanone oxime upregulates gene RHOB. Compound Butanone oxime upregulates gene TPD52L2. Compound Butanone oxime upregulates gene RFC5. Compound Butanone oxime upregulates gene SERPINA3. Compound Butanone oxime upregulates gene LPCAT1. Compound Butanone oxime upregulates gene H1-0. Compound Butanone oxime upregulates gene RPSA. Compound Butanone oxime upregulates gene DRD2. Compound Butanone oxime upregulates gene DPH2. Compound Butanone oxime upregulates gene JUN. Compound Butanone oxime upregulates gene PDGFA. Compound Butanone oxime upregulates gene DDIT4. Compound Butanone oxime upregulates gene DNAJA3. Compound Butanone oxime upregulates gene MRPL53. Compound Butanone oxime upregulates gene NES. Compound Butanone oxime upregulates gene APOL3. Compound Butanone oxime upregulates gene TNFSF13. Compound Butanone oxime upregulates gene PKIG. Compound Butanone oxime upregulates gene VKORC1. Compound Butanone oxime downregulates gene AMY1A. Compound Butanone oxime upregulates gene HLA-C. Compound Butanone oxime upregulates gene OTUD7B. Compound Butanone oxime upregulates gene H2BC15. Compound Butanone oxime upregulates gene CYP2C19. Compound Butanone oxime upregulates gene CYP1B1. Compound Butanone oxime upregulates gene ICAM1. Compound Butanone oxime upregulates gene LGALS1. Compound Butanone oxime upregulates gene RFC5. Compound Butanone oxime upregulates gene SERPINA3. Compound Butanone oxime upregulates gene COL11A1. Compound Butanone oxime upregulates gene RPSA. Compound Butanone oxime upregulates gene NGFR. Compound Butanone oxime upregulates gene DRD2. Compound Butanone oxime upregulates gene CALM3. Compound Butanone oxime upregulates gene RPL27. Compound Butanone oxime upregulates gene PSRC1. Compound Butanone oxime upregulates gene GIMAP8. Compound Butanone oxime upregulates gene CCNF. Compound Butanone oxime upregulates gene CRISP3. Compound Butanone oxime upregulates gene MRPL53. Compound Butanone oxime upregulates gene CA1. Compound Butanone oxime upregulates gene APOL3. Compound Butanone oxime upregulates gene DDIAS. Compound Butanone oxime upregulates gene VKORC1. Compound Butanone oxime downregulates gene CLDN2. Compound Butanone oxime downregulates gene SLC2A1. Compound Butanone oxime downregulates gene GALNT3. Compound Butanone oxime downregulates gene PHLDA2. Compound Butanone oxime downregulates gene AGXT2. Compound Butanone oxime downregulates gene POLE2. Compound Butanone oxime downregulates gene GINS2. Compound Butanone oxime downregulates gene INA. Compound Butanone oxime downregulates gene ARHGAP8. Compound Butanone oxime upregulates gene TPRKB. Compound Butanone oxime upregulates gene HLA-C. Compound Butanone oxime upregulates gene NLRX1. Compound Butanone oxime upregulates gene H2BC15. Compound Butanone oxime upregulates gene CYP2C19. Compound Butanone oxime upregulates gene LGALS1. Compound Butanone oxime upregulates gene DHFR. Compound Butanone oxime upregulates gene SERPINA3. Compound Butanone oxime upregulates gene RPSA. Compound Butanone oxime upregulates gene NIPSNAP1. Compound Butanone oxime upregulates gene NGFR. Compound Butanone oxime upregulates gene B4GALT5. Compound Butanone oxime upregulates gene JUN. Compound Butanone oxime upregulates gene ISG15. Compound Butanone oxime upregulates gene MT1H. Compound Butanone oxime upregulates gene H2AC8. Compound Butanone oxime upregulates gene APOL3. Compound Butanone oxime upregulates gene VKORC1. Compound Butanone oxime upregulates gene PSME1. Compound Butanone oxime upregulates gene VKORC1. Compound Butanone oxime upregulates gene ZNF217. Compound Butanone oxime upregulates gene CYTH1. Compound Butanone oxime upregulates gene TPRKB. Compound Butanone oxime upregulates gene HLA-C. Compound Butanone oxime upregulates gene LGALS1. Compound Butanone oxime upregulates gene TPD52L2. Compound Butanone oxime upregulates gene WFS1. Compound Butanone oxime upregulates gene SERPINA3. Compound Butanone oxime upregulates gene H1-0. Compound Butanone oxime upregulates gene COL11A1. Compound Butanone oxime upregulates gene RPSA. Compound Butanone oxime upregulates gene NIPSNAP1. Compound Butanone oxime upregulates gene NGFR. Compound Butanone oxime upregulates gene DRD2. Compound Butanone oxime upregulates gene PDPN. Compound Butanone oxime upregulates gene ACTA1. Compound Butanone oxime upregulates gene CCDC80. Compound Butanone oxime upregulates gene TIMP2. Compound Butanone oxime upregulates gene CHEK2. Compound Butanone oxime upregulates gene MRPL53. Compound Butanone oxime upregulates gene VKORC1. Compound Butanone oxime downregulates gene ZNF586. Compound Butanone oxime downregulates gene VEGFD. Compound Butanone oxime downregulates gene EVI2B. Compound Butanone oxime downregulates gene COL5A2. Compound Butanone oxime upregulates gene HLA-C. Compound Butanone oxime upregulates gene H2BC15. Compound Butanone oxime upregulates gene LGALS1. Compound Butanone oxime upregulates gene TPD52L2. Compound Butanone oxime upregulates gene WFS1. Compound Butanone oxime upregulates gene GPR171. Compound Butanone oxime upregulates gene SERPINA3. Compound Butanone oxime upregulates gene H1-0. Compound Butanone oxime upregulates gene RPSA. Compound Butanone oxime upregulates gene NIPSNAP1. Compound Butanone oxime upregulates gene P4HB. Compound Butanone oxime upregulates gene DRD2. Compound Butanone oxime upregulates gene RPL27. Compound Butanone oxime upregulates gene IFI6. Compound Butanone oxime upregulates gene TIMP2. Compound Butanone oxime upregulates gene ISG15. Compound Butanone oxime upregulates gene DDIT4. Compound Butanone oxime upregulates gene BAD. Compound Butanone oxime upregulates gene CHEK2. Compound Butanone oxime upregulates gene VKORC1. Compound Butanone oxime upregulates gene PSME1. Compound Butanone oxime downregulates gene AOC2. Compound Butanone oxime downregulates gene LATS2. Compound Butyl tin trichloride downregulates gene EPHB6. Compound Butyl tin trichloride upregulates gene NMRAL2P. Compound Butyl tin trichloride upregulates gene UGT1A10. Compound Butyl tin trichloride upregulates gene UGT1A8. Compound Butyl tin trichloride upregulates gene NQO1. Compound Butyl tin trichloride downregulates gene TXNIP. Compound Butyl tin trichloride downregulates gene CASR. Compound Butyl tin trichloride downregulates gene EMX2. Compound Butyl tin trichloride downregulates gene TXNIP. Compound Butyl tin trichloride downregulates gene ABL1. Compound Butyl tin trichloride upregulates gene TRIM16L. Compound Butyl tin trichloride upregulates gene UGT1A1. Compound Butyl tin trichloride upregulates gene NMRAL2P. Compound Butyl tin trichloride upregulates gene UGT1A3. Compound Butyl tin trichloride upregulates gene UGT1A10. Compound Butyl tin trichloride upregulates gene AKR1B10. Compound Butyl tin trichloride upregulates gene NQO1. Compound Butyl tin trichloride upregulates gene UGT1A6. Compound Butyl tin trichloride upregulates gene HMOX1. Compound Butyl tin trichloride downregulates gene TXNIP. Compound Butyl tin trichloride downregulates gene CASR. Compound Butyl tin trichloride upregulates gene SLCO2B1. Compound Butyl tin trichloride upregulates gene TRIM16L. Compound Butyl tin trichloride upregulates gene NMRAL2P. Compound Butyl tin trichloride upregulates gene OSGIN1. Compound Butyl tin trichloride upregulates gene FN1. Compound Butyl tin trichloride upregulates gene CDA. Compound Butyl tin trichloride upregulates gene UGT1A10. Compound Butyl tin trichloride upregulates gene AKR1B10. Compound Butyl tin trichloride upregulates gene SLC7A11. Compound Butyl tin trichloride upregulates gene TXNRD1. Compound Butyl tin trichloride upregulates gene NQO1. Compound Butyl tin trichloride upregulates gene AFP. Compound Butyl tin trichloride upregulates gene UGT1A6. Compound Butyl tin trichloride upregulates gene HMOX1. Compound Butyl tin trichloride downregulates gene CASR. Compound Butyl tin trichloride downregulates gene EMX2. Compound Butyl tin trichloride downregulates gene TXNIP. Compound Butyl tin trichloride downregulates gene AGR3. Compound Butyl tin trichloride downregulates gene BBOX1. Compound Butyl tin trichloride downregulates gene FIBIN. Compound Butyl tin trichloride downregulates gene EGR1. Compound Butyl tin trichloride downregulates gene FGFR2. Compound Butyl tin trichloride downregulates gene DEFB1. Compound Butyl tin trichloride downregulates gene SLC8A1. Compound Butyl tin trichloride upregulates gene TRIM16L. Compound Butyl tin trichloride upregulates gene AKR1C2. Compound Butyl tin trichloride upregulates gene NMRAL2P. Compound Butyl tin trichloride upregulates gene TXNRD1. Compound Butyl tin trichloride upregulates gene IL13RA2. Compound Butyl tin trichloride downregulates gene KRT4. Compound Butyl tin trichloride upregulates gene TRIM16L. Compound Butyl tin trichloride upregulates gene AKR1C2. Compound Butyl tin trichloride upregulates gene NMRAL2P. Compound Butyl tin trichloride upregulates gene GPX2. Compound Butyl tin trichloride upregulates gene MAP2. Compound Butyl tin trichloride upregulates gene OSGIN1. Compound Butyl tin trichloride upregulates gene HSPA6. Compound Butyl tin trichloride upregulates gene NRCAM. Compound Butyl tin trichloride upregulates gene GCLC. Compound Butyl tin trichloride upregulates gene TNFRSF9. Compound Butyl tin trichloride upregulates gene ZNF469. Compound Butyl tin trichloride upregulates gene IL13RA2. Compound Butyl tin trichloride upregulates gene SLC7A11. Compound Butyl tin trichloride upregulates gene TXNRD1. Compound Butyl tin trichloride upregulates gene ZNF114. Compound Butyl tin trichloride upregulates gene HMOX1. Compound Butyl tin trichloride downregulates gene CCL2. Compound Butyl tin trichloride downregulates gene SERPINB4. Compound Butyl tin trichloride upregulates gene FTL. Compound Butyl tin trichloride upregulates gene AKR1C2. Compound Butyl tin trichloride upregulates gene GCLC. Compound Butyl tin trichloride upregulates gene NCF2. Compound Butyl tin trichloride upregulates gene ZNF469. Compound Butyl tin trichloride upregulates gene FTH1. Compound Butyl tin trichloride upregulates gene HDAC9. Compound Butyl tin trichloride upregulates gene GPAT3. Compound Butyl tin trichloride upregulates gene ZNF114. Compound Butyl tin trichloride upregulates gene LCAL1. Compound Butyl tin trichloride upregulates gene TRIM16L. Compound Butyl tin trichloride upregulates gene GCLM. Compound Butyl tin trichloride upregulates gene NMRAL2P. Compound Butyl tin trichloride upregulates gene PLIN2. Compound Butyl tin trichloride upregulates gene SLC2A14. Compound Butyl tin trichloride upregulates gene SRXN1. Compound Butyl tin trichloride upregulates gene SQSTM1. Compound Butyl tin trichloride upregulates gene NRCAM. Compound Butyl tin trichloride upregulates gene GDF15. Compound Butyl tin trichloride upregulates gene IGFBP3. Compound Butyl tin trichloride upregulates gene NDRG1. Compound Butyl tin trichloride upregulates gene MAP1B. Compound Butyl tin trichloride upregulates gene SOCS1. Compound Butyl tin trichloride upregulates gene MMP1. Compound Butyl tin trichloride upregulates gene LY96. Compound Butyl tin trichloride upregulates gene GPX2. Compound Butyl tin trichloride upregulates gene MAP2. Compound Butyl tin trichloride upregulates gene HSPA6. Compound Butyl tin trichloride upregulates gene TNFRSF9. Compound Butyl tin trichloride upregulates gene LAMP3. Compound Butyl tin trichloride upregulates gene IL13RA2. Compound Butyl tin trichloride upregulates gene CSF2. Compound Butyl tin trichloride upregulates gene TXNRD1. Compound Butyl tin trichloride upregulates gene POPDC3. Compound Butyl tin trichloride upregulates gene OSGIN1. Compound Butyl tin trichloride upregulates gene TREM1. Compound Butyl tin trichloride upregulates gene SLC7A11. Compound Butyl tin trichloride upregulates gene AKR1C3. Compound Butyl tin trichloride upregulates gene HMOX1. Compound Butyl tin trichloride downregulates gene MUC1. Compound Butyl tin trichloride downregulates gene CAMK2B. Compound Butyl tin trichloride downregulates gene IFIT3. Compound Butyl tin trichloride downregulates gene TGFB2. Compound Butyl tin trichloride downregulates gene MCM10. Compound Butyl tin trichloride downregulates gene SERPINB4. Compound Butyl tin trichloride downregulates gene VGLL1. Compound Butyl tin trichloride downregulates gene ECSCR. Compound Butyl tin trichloride downregulates gene HERC5. Compound Butyl tin trichloride downregulates gene ID3. Compound Butyl tin trichloride downregulates gene CCNE2. Compound Butyl tin trichloride downregulates gene IL2RB. Compound Butyl tin trichloride downregulates gene KRT4. Compound Butyl tin trichloride downregulates gene IL20. Compound Butyl tin trichloride downregulates gene CCL2. Compound Butyl tin trichloride downregulates gene H2BC14. Compound Butyl tin trichloride downregulates gene INSC. Compound Butyl tin trichloride downregulates gene THBS1. Compound Butyl tin trichloride downregulates gene CYP24A1. Compound Butyl tin trichloride downregulates gene EXO1. Compound Butyl tin trichloride downregulates gene IFIT1. Compound Butyl tin trichloride downregulates gene MCM3. Compound Butyl tin trichloride downregulates gene ATAD5. Compound Butyl tin trichloride downregulates gene STEAP4. Compound Butyl tin trichloride downregulates gene PCLAF. Compound Butyl tin trichloride downregulates gene CXCL14. Compound Butyl tin trichloride downregulates gene EGFL6. Compound Butyl tin trichloride downregulates gene PALMD. Compound Butyl tin trichloride downregulates gene ZNF367. Compound Butyl tin trichloride downregulates gene H2BC3. Compound Butyl tin trichloride downregulates gene H2BC7. Compound Butyl tin trichloride downregulates gene FOSB. Compound Butyl tin trichloride downregulates gene LMO3. Compound Butyl tin trichloride upregulates gene TRIM16L. Compound Butyl tin trichloride upregulates gene FTL. Compound Butyl tin trichloride upregulates gene IFIT3. Compound Butyl tin trichloride upregulates gene AKR1C2. Compound Butyl tin trichloride upregulates gene RRAD. Compound Butyl tin trichloride upregulates gene HSPA6. Compound Butyl tin trichloride upregulates gene NRCAM. Compound Butyl tin trichloride upregulates gene HSPA1A. Compound Butyl tin trichloride upregulates gene HSPA1B. Compound Butyl tin trichloride upregulates gene ZNF469. Compound Butyl tin trichloride upregulates gene MINDY1. Compound Butyl tin trichloride upregulates gene TXNRD1. Compound Butyl tin trichloride upregulates gene CTTNBP2. Compound Butyl tin trichloride upregulates gene AKR1C3. Compound Butyl tin trichloride upregulates gene HMOX1. Compound Butyl tin trichloride downregulates gene CX3CL1. Compound Butyl tin trichloride downregulates gene MMP1. Compound Butyl tin trichloride downregulates gene CYP1B1. Compound Butyl tin trichloride downregulates gene THBD. Compound Butyl tin trichloride downregulates gene NSG1. Compound Butyl tin trichloride downregulates gene CXCL14. Compound Butyl tin trichloride downregulates gene KRT6A. Compound Butyl tin trichloride downregulates gene KRT14. Compound Butyl tin trichloride downregulates gene KRT5. Compound Butyl tin trichloride upregulates gene LPCAT1. Compound Butyl tin trichloride upregulates gene SEMA3C. Compound Butyl tin trichloride upregulates gene MGC70870. Compound Butyl tin trichloride upregulates gene MT1H. Compound Butyl tin trichloride downregulates gene IGHV3-23. Compound Butyl tin trichloride downregulates gene POU5F2. Compound Butyl tin trichloride upregulates gene NMRAL2P. Compound Butyl tin trichloride upregulates gene HMOX1. Compound Butyl tin trichloride upregulates gene F2RL2. Compound Butyl tin trichloride downregulates gene CYP1A2. Compound Butyl tin trichloride upregulates gene IGHV3-23. Compound Butyl tin trichloride upregulates gene LPCAT1. Compound Butyl tin trichloride upregulates gene APOL3. Compound Butyl tin trichloride upregulates gene CDH11. Compound Butyl tin trichloride upregulates gene PLK3. Compound Butyl tin trichloride upregulates gene ALDOC. Compound Butyl tin trichloride downregulates gene GALNT3. Compound Butyl tin trichloride downregulates gene SMAD4. Compound Butyl tin trichloride downregulates gene TFAP2A. Compound Butyl tin trichloride downregulates gene IL1A. Compound Butyl tin trichloride downregulates gene KRT14. Compound Butyl tin trichloride downregulates gene KRT17. Compound Butyl tin trichloride downregulates gene KRT5. Compound Butyl tin trichloride downregulates gene KRT6A. Compound Butyl tin trichloride downregulates gene AREG. Compound Butyl tin trichloride downregulates gene DNMT1. Compound Butyl tin trichloride upregulates gene HMOX1. Compound Butyl tin trichloride downregulates gene S100A2. Compound Butyl tin trichloride downregulates gene KRT14. Compound Butyl tin trichloride downregulates gene KRT17. Compound Butyl tin trichloride downregulates gene KRT5. Compound Butyl tin trichloride downregulates gene KRT6A. Compound Butyl tin trichloride upregulates gene AKR1B10. Compound Butyl tin trichloride upregulates gene CYP24A1. Compound Butyl tin trichloride upregulates gene AKR1C2. Compound Butyl tin trichloride upregulates gene NMRAL2P. Compound Butyl tin trichloride upregulates gene GCLM. Compound Butyl tin trichloride upregulates gene OSGIN1. Compound Butyl tin trichloride upregulates gene AKR1B10. Compound Butyl tin trichloride upregulates gene RFK. Compound Butyl tin trichloride upregulates gene RRP7A. Compound Butyl tin trichloride downregulates gene HSPA9. Compound Butyl tin trichloride downregulates gene PTBP2. Compound Butyl tin trichloride downregulates gene KDM3A. Compound Butyl tin trichloride downregulates gene DNAJB4. Compound Butyl tin trichloride downregulates gene RPL15. Compound Butyl tin trichloride downregulates gene MTRNR2L8. Compound Butyl tin trichloride downregulates gene HIST1H3F. Compound Dibutyl tin dichloride upregulates gene CASR. Compound Dibutyl tin dichloride upregulates gene RET. Compound Dibutyl tin dichloride upregulates gene EMX1. Compound Dibutyl tin dichloride downregulates gene EOMES. Compound Dibutyl tin dichloride downregulates gene MMP1. Compound Dibutyl tin dichloride downregulates gene CCL2. Compound Dibutyl tin dichloride downregulates gene IRAK2. Compound Dibutyl tin dichloride downregulates gene PLAT. Compound Dibutyl tin dichloride downregulates gene CSF1. Compound Dibutyl tin dichloride downregulates gene IL13RA2. Compound Dibutyl tin dichloride downregulates gene CSF2. Compound Dibutyl tin dichloride downregulates gene CCL20. Compound Dibutyl tin dichloride downregulates gene IL1B. Compound Dibutyl tin dichloride upregulates gene DDIT4. Compound Dibutyl tin dichloride upregulates gene MT1H. Compound Dibutyl tin dichloride upregulates gene CYP26A1. Compound Dibutyl tin dichloride upregulates gene FOS. Compound Dibutyl tin dichloride upregulates gene PRR15L. Compound Dibutyl tin dichloride upregulates gene ANGPTL4. Compound Dibutyl tin dichloride downregulates gene MMP1. Compound Dibutyl tin dichloride downregulates gene CD69. Compound Dibutyl tin dichloride downregulates gene IRAK2. Compound Dibutyl tin dichloride downregulates gene PLAT. Compound Dibutyl tin dichloride downregulates gene IL13RA2. Compound Dibutyl tin dichloride downregulates gene SERPINB3. Compound Dibutyl tin dichloride downregulates gene IL1B. Compound Dibutyl tin dichloride upregulates gene PRR15L. Compound Dibutyl tin dichloride upregulates gene CYP26A1. Compound Dibutyl tin dichloride upregulates gene BBOX1. Compound Dibutyl tin dichloride downregulates gene SLCO2B1. Compound Dibutyl tin dichloride downregulates gene MMP1. Compound Dibutyl tin dichloride downregulates gene PLAT. Compound Dibutyl tin dichloride downregulates gene IL1B. Compound Dibutyl tin dichloride upregulates gene HMOX1. Compound Dibutyl tin dichloride upregulates gene CYP26A1. Compound Dibutyl tin dichloride downregulates gene MMP1. Compound Dibutyl tin dichloride downregulates gene PLAT. Compound Dibutyl tin dichloride downregulates gene IL1B. Compound Dibutyl tin dichloride upregulates gene UGT1A10. Compound Dibutyl tin dichloride upregulates gene UGT1A8. Compound Dibutyl tin dichloride upregulates gene NQO1. Compound Dibutyl tin dichloride upregulates gene UGT1A6. Compound Dibutyl tin dichloride upregulates gene HMOX1. Compound Dibutyl tin dichloride downregulates gene MMP1. Compound Dibutyl tin dichloride downregulates gene PLAT. Compound Dibutyl tin dichloride downregulates gene CEACAM6. Compound Dibutyl tin dichloride upregulates gene LINC00520. Compound Dibutyl tin dichloride upregulates gene FTL. Compound Dibutyl tin dichloride upregulates gene AKR1C2. Compound Dibutyl tin dichloride upregulates gene IL7R. Compound Dibutyl tin dichloride upregulates gene UGT1A8. Compound Dibutyl tin dichloride upregulates gene AKR1B10. Compound Dibutyl tin dichloride upregulates gene ALDH3A2. Compound Dibutyl tin dichloride upregulates gene AFP. Compound Dibutyl tin dichloride upregulates gene GPAT3. Compound Dibutyl tin dichloride upregulates gene EDNRA. Compound Dibutyl tin dichloride upregulates gene INA. Compound Dibutyl tin dichloride upregulates gene UGT1A6. Compound Dibutyl tin dichloride upregulates gene ITGA11. Compound Dibutyl tin dichloride upregulates gene TRIM16L. Compound Dibutyl tin dichloride upregulates gene NCR3LG1. Compound Dibutyl tin dichloride upregulates gene PKIB. Compound Dibutyl tin dichloride upregulates gene GCLM. Compound Dibutyl tin dichloride upregulates gene NMRAL2P. Compound Dibutyl tin dichloride upregulates gene SNHG8. Compound Dibutyl tin dichloride upregulates gene SRXN1. Compound Dibutyl tin dichloride upregulates gene SQSTM1. Compound Dibutyl tin dichloride upregulates gene DDIT3. Compound Dibutyl tin dichloride upregulates gene ABCC2. Compound Dibutyl tin dichloride upregulates gene KLRC2. Compound Dibutyl tin dichloride upregulates gene RGCC. Compound Dibutyl tin dichloride upregulates gene PPM1E. Compound Dibutyl tin dichloride upregulates gene KCNQ3. Compound Dibutyl tin dichloride upregulates gene SRPX. Compound Dibutyl tin dichloride upregulates gene EEF1A2. Compound Dibutyl tin dichloride upregulates gene IL13RA2. Compound Dibutyl tin dichloride upregulates gene TXNRD1. Compound Dibutyl tin dichloride upregulates gene NQO1. Compound Dibutyl tin dichloride upregulates gene ATF5. Compound Dibutyl tin dichloride upregulates gene ANGPTL4. Compound Dibutyl tin dichloride upregulates gene CRYAB. Compound Dibutyl tin dichloride upregulates gene MLLT11. Compound Dibutyl tin dichloride upregulates gene ASB5. Compound Dibutyl tin dichloride upregulates gene IFRD1. Compound Dibutyl tin dichloride upregulates gene OSGIN1. Compound Dibutyl tin dichloride upregulates gene SLCO1B1. Compound Dibutyl tin dichloride upregulates gene PEG10. Compound Dibutyl tin dichloride upregulates gene UGT1A10. Compound Dibutyl tin dichloride upregulates gene SLC7A11. Compound Dibutyl tin dichloride upregulates gene GADD45G. Compound Dibutyl tin dichloride upregulates gene AKR1C3. Compound Dibutyl tin dichloride upregulates gene HMOX1. Compound Dibutyl tin dichloride upregulates gene STC2. Compound Dibutyl tin dichloride upregulates gene GRWD1. Compound Dibutyl tin dichloride downregulates gene ATAD2. Compound Dibutyl tin dichloride downregulates gene FAM72C. Compound Dibutyl tin dichloride downregulates gene CYP3A5. Compound Dibutyl tin dichloride downregulates gene CYP2D6. Compound Dibutyl tin dichloride downregulates gene LIG1. Compound Dibutyl tin dichloride downregulates gene LIX1. Compound Dibutyl tin dichloride downregulates gene HLA-DMB. Compound Dibutyl tin dichloride downregulates gene TRIM22. Compound Dibutyl tin dichloride downregulates gene STIL. Compound Dibutyl tin dichloride downregulates gene TERT. Compound Dibutyl tin dichloride downregulates gene LRP1. Compound Dibutyl tin dichloride downregulates gene TPX2. Compound Dibutyl tin dichloride downregulates gene CCNB2. Compound Dibutyl tin dichloride downregulates gene KRT17. Compound Dibutyl tin dichloride downregulates gene MYL12A. Compound Dibutyl tin dichloride downregulates gene TCEA2. Compound Dibutyl tin dichloride downregulates gene RNASE4. Compound Dibutyl tin dichloride downregulates gene SHCBP1. Compound Dibutyl tin dichloride downregulates gene SPAG5. Compound Dibutyl tin dichloride downregulates gene CCNE2. Compound Dibutyl tin dichloride downregulates gene TTK. Compound Dibutyl tin dichloride downregulates gene H3C10. Compound Dibutyl tin dichloride downregulates gene H2BC13. Compound Dibutyl tin dichloride downregulates gene CENPF. Compound Dibutyl tin dichloride downregulates gene ANLN. Compound Dibutyl tin dichloride downregulates gene CYP2E1. Compound Dibutyl tin dichloride downregulates gene NEK2. Compound Dibutyl tin dichloride downregulates gene CDCA8. Compound Dibutyl tin dichloride downregulates gene EGFL6. Compound Dibutyl tin dichloride downregulates gene KIF15. Compound Dibutyl tin dichloride downregulates gene H2BC3. Compound Dibutyl tin dichloride downregulates gene LMNB1. Compound Dibutyl tin dichloride downregulates gene FIBIN. Compound Dibutyl tin dichloride downregulates gene EGR1. Compound Dibutyl tin dichloride downregulates gene DDIAS. Compound Dibutyl tin dichloride downregulates gene TOP2A. Compound Dibutyl tin dichloride downregulates gene KCNJ8. Compound Dibutyl tin dichloride downregulates gene SERPINB3. Compound Dibutyl tin dichloride downregulates gene KIF18A. Compound Dibutyl tin dichloride downregulates gene HELLS. Compound Dibutyl tin dichloride downregulates gene FAM183A. Compound Dibutyl tin dichloride downregulates gene NFATC4. Compound Dibutyl tin dichloride downregulates gene C15orf48. Compound Dibutyl tin dichloride downregulates gene KIF14. Compound Dibutyl tin dichloride downregulates gene AURKA. Compound Dibutyl tin dichloride downregulates gene PBK. Compound Dibutyl tin dichloride downregulates gene PLK1. Compound Dibutyl tin dichloride downregulates gene IFI44. Compound Dibutyl tin dichloride downregulates gene ORC1. Compound Dibutyl tin dichloride downregulates gene IFI44L. Compound Dibutyl tin dichloride downregulates gene CIT. Compound Dibutyl tin dichloride downregulates gene NCAPH. Compound Dibutyl tin dichloride downregulates gene CDCA3. Compound Dibutyl tin dichloride downregulates gene FAM72A. Compound Dibutyl tin dichloride downregulates gene NFKBIA. Compound Dibutyl tin dichloride downregulates gene KIF23. Compound Dibutyl tin dichloride downregulates gene DLGAP5. Compound Dibutyl tin dichloride downregulates gene EDN1. Compound Dibutyl tin dichloride downregulates gene RRM2. Compound Dibutyl tin dichloride downregulates gene CCNA2. Compound Dibutyl tin dichloride downregulates gene CDH5. Compound Dibutyl tin dichloride downregulates gene CENPE. Compound Dibutyl tin dichloride downregulates gene ASF1B. Compound Dibutyl tin dichloride downregulates gene CDC45. Compound Dibutyl tin dichloride downregulates gene PTGFR. Compound Dibutyl tin dichloride downregulates gene TXNIP. Compound Dibutyl tin dichloride downregulates gene BTN3A3. Compound Dibutyl tin dichloride downregulates gene BRIP1. Compound Dibutyl tin dichloride downregulates gene MELK. Compound Dibutyl tin dichloride downregulates gene KIF20A. Compound Dibutyl tin dichloride downregulates gene STMN1. Compound Dibutyl tin dichloride downregulates gene PLAT. Compound Dibutyl tin dichloride downregulates gene RAD51AP1. Compound Dibutyl tin dichloride downregulates gene PAIP1. Compound Dibutyl tin dichloride downregulates gene TNFSF10. Compound Dibutyl tin dichloride downregulates gene TCF19. Compound Dibutyl tin dichloride downregulates gene ALDH7A1. Compound Dibutyl tin dichloride downregulates gene ANKRD36B. Compound Dibutyl tin dichloride downregulates gene CASP1. Compound Dibutyl tin dichloride downregulates gene CEACAM6. Compound Dibutyl tin dichloride downregulates gene CLDN2. Compound Dibutyl tin dichloride downregulates gene USP1. Compound Dibutyl tin dichloride downregulates gene NUF2. Compound Dibutyl tin dichloride downregulates gene IL19. Compound Dibutyl tin dichloride downregulates gene CCL2. Compound Dibutyl tin dichloride downregulates gene MKI67. Compound Dibutyl tin dichloride downregulates gene UBE2T. Compound Dibutyl tin dichloride downregulates gene PHGDH. Compound Dibutyl tin dichloride downregulates gene UBE2C. Compound Dibutyl tin dichloride downregulates gene AHRR. Compound Dibutyl tin dichloride downregulates gene MYBL1. Compound Dibutyl tin dichloride downregulates gene EXO1. Compound Dibutyl tin dichloride downregulates gene H3C3. Compound Dibutyl tin dichloride downregulates gene ANXA8L1. Compound Dibutyl tin dichloride downregulates gene COL16A1. Compound Dibutyl tin dichloride downregulates gene VAV3. Compound Dibutyl tin dichloride downregulates gene NCAPG. Compound Dibutyl tin dichloride downregulates gene H2BC7. Compound Dibutyl tin dichloride downregulates gene CXCL3. Compound Dibutyl tin dichloride downregulates gene SGO2. Compound Dibutyl tin dichloride downregulates gene E2F8. Compound Dibutyl tin dichloride downregulates gene KIF18B. Compound Dibutyl tin dichloride downregulates gene NUSAP1. Compound Dibutyl tin dichloride downregulates gene PCNA. Compound Dibutyl tin dichloride downregulates gene BMF. Compound Dibutyl tin dichloride downregulates gene KNL1. Compound Dibutyl tin dichloride downregulates gene MCM10. Compound Dibutyl tin dichloride downregulates gene CDC20. Compound Dibutyl tin dichloride downregulates gene CCNB1. Compound Dibutyl tin dichloride downregulates gene ESPL1. Compound Dibutyl tin dichloride downregulates gene CCL20. Compound Dibutyl tin dichloride downregulates gene CTTNBP2. Compound Dibutyl tin dichloride downregulates gene CYP1B1. Compound Dibutyl tin dichloride downregulates gene RACGAP1. Compound Dibutyl tin dichloride downregulates gene SKA1. Compound Dibutyl tin dichloride downregulates gene CEP55. Compound Dibutyl tin dichloride downregulates gene H3C2. Compound Dibutyl tin dichloride downregulates gene CDK1. Compound Dibutyl tin dichloride downregulates gene CXCL5. Compound Dibutyl tin dichloride downregulates gene TMC5. Compound Dibutyl tin dichloride downregulates gene DTL. Compound Dibutyl tin dichloride downregulates gene KIF11. Compound Dibutyl tin dichloride downregulates gene TNFAIP2. Compound Dibutyl tin dichloride downregulates gene BUB1B. Compound Dibutyl tin dichloride downregulates gene PRC1. Compound Dibutyl tin dichloride downregulates gene IFIT1. Compound Dibutyl tin dichloride downregulates gene ARHGAP45. Compound Dibutyl tin dichloride downregulates gene ZNF185. Compound Dibutyl tin dichloride downregulates gene HMMR. Compound Dibutyl tin dichloride downregulates gene KIF2C. Compound Dibutyl tin dichloride downregulates gene LTB. Compound Dibutyl tin dichloride downregulates gene CCNF. Compound Dibutyl tin dichloride downregulates gene DEFB1. Compound Dibutyl tin dichloride downregulates gene DEPDC1. Compound Dibutyl tin dichloride downregulates gene SPC25. Compound Dibutyl tin dichloride downregulates gene LAPTM5. Compound Dibutyl tin dichloride upregulates gene ANKRD36B. Compound Dibutyl tin dichloride downregulates gene KRT4. Compound Dibutyl tin dichloride upregulates gene CA9. Compound Dibutyl tin dichloride upregulates gene PHLDA2. Compound Dibutyl tin dichloride upregulates gene TPI1. Compound Dibutyl tin dichloride upregulates gene ZNF469. Compound Dibutyl tin dichloride upregulates gene ABCA1. Compound Dibutyl tin dichloride upregulates gene HDAC9. Compound Dibutyl tin dichloride upregulates gene SLC22A1. Compound Dibutyl tin dichloride upregulates gene GPAT3. Compound Dibutyl tin dichloride upregulates gene ZNF114. Compound Dibutyl tin dichloride upregulates gene ANKRD36B. Compound Dibutyl tin dichloride upregulates gene EGF. Compound Dibutyl tin dichloride upregulates gene TRIM16L. Compound Dibutyl tin dichloride upregulates gene NMRAL2P. Compound Dibutyl tin dichloride upregulates gene PLIN2. Compound Dibutyl tin dichloride upregulates gene UGT1A3. Compound Dibutyl tin dichloride upregulates gene ASTN2. Compound Dibutyl tin dichloride upregulates gene STC1. Compound Dibutyl tin dichloride upregulates gene GDF15. Compound Dibutyl tin dichloride upregulates gene PDGFB. Compound Dibutyl tin dichloride upregulates gene IGFBP3. Compound Dibutyl tin dichloride upregulates gene SULF1. Compound Dibutyl tin dichloride upregulates gene GLI1. Compound Dibutyl tin dichloride upregulates gene UCHL1. Compound Dibutyl tin dichloride upregulates gene SOCS1. Compound Dibutyl tin dichloride upregulates gene MMP1. Compound Dibutyl tin dichloride upregulates gene KCNQ3. Compound Dibutyl tin dichloride upregulates gene ANKRD20A17P. Compound Dibutyl tin dichloride upregulates gene LINC02806. Compound Dibutyl tin dichloride upregulates gene LY96. Compound Dibutyl tin dichloride upregulates gene GPX2. Compound Dibutyl tin dichloride upregulates gene CHN1. Compound Dibutyl tin dichloride upregulates gene TNFRSF9. Compound Dibutyl tin dichloride upregulates gene LAMP3. Compound Dibutyl tin dichloride upregulates gene IL13RA2. Compound Dibutyl tin dichloride upregulates gene CSF2. Compound Dibutyl tin dichloride upregulates gene TXNRD1. Compound Dibutyl tin dichloride upregulates gene SGK2. Compound Dibutyl tin dichloride upregulates gene TRAF1. Compound Dibutyl tin dichloride upregulates gene F2RL2. Compound Dibutyl tin dichloride upregulates gene POPDC3. Compound Dibutyl tin dichloride upregulates gene POU5F2. Compound Dibutyl tin dichloride upregulates gene TREM1. Compound Dibutyl tin dichloride upregulates gene SLC7A11. Compound Dibutyl tin dichloride upregulates gene HMOX1. Compound Dibutyl tin dichloride downregulates gene CCNE2. Compound Dibutyl tin dichloride downregulates gene KRT4. Compound Dibutyl tin dichloride downregulates gene ZNF367. Compound Dibutyl tin dichloride downregulates gene CCL2. Compound Dibutyl tin dichloride downregulates gene MCM10. Compound Dibutyl tin dichloride downregulates gene IFIT1. Compound Dibutyl tin dichloride downregulates gene SERPINB4. Compound Dibutyl tin dichloride downregulates gene BDH1. Compound Dibutyl tin dichloride downregulates gene FEN1. Compound Dibutyl tin dichloride downregulates gene STEAP4. Compound Dibutyl tin dichloride downregulates gene CXCL14. Compound Dibutyl tin dichloride downregulates gene CDCA7. Compound Dibutyl tin dichloride downregulates gene CAVIN2. Compound Dibutyl tin dichloride upregulates gene ADAM12. Compound Dibutyl tin dichloride upregulates gene SLC44A4. Compound Dibutyl tin dichloride upregulates gene HDAC9. Compound Dibutyl tin dichloride upregulates gene INA. Compound Dibutyl tin dichloride upregulates gene LCAL1. Compound Dibutyl tin dichloride upregulates gene EGLN3. Compound Dibutyl tin dichloride upregulates gene SEMA6A. Compound Dibutyl tin dichloride upregulates gene NMRAL2P. Compound Dibutyl tin dichloride upregulates gene IGFBP3. Compound Dibutyl tin dichloride upregulates gene SOCS1. Compound Dibutyl tin dichloride upregulates gene ITGB3. Compound Dibutyl tin dichloride upregulates gene TNFRSF9. Compound Dibutyl tin dichloride upregulates gene ADM. Compound Dibutyl tin dichloride upregulates gene CSF2. Compound Dibutyl tin dichloride upregulates gene SGK2. Compound Dibutyl tin dichloride upregulates gene POPDC3. Compound Dibutyl tin dichloride upregulates gene POU5F2. Compound Dibutyl tin dichloride upregulates gene WFDC2. Compound Dibutyl tin dichloride upregulates gene TNFSF13B. Compound Dibutyl tin dichloride upregulates gene HMOX1. Compound Dibutyl tin dichloride upregulates gene CA9. Compound Dibutyl tin dichloride upregulates gene IL6. Compound Dibutyl tin dichloride upregulates gene ADAM8. Compound Dibutyl tin dichloride upregulates gene FTL. Compound Dibutyl tin dichloride upregulates gene LCP1. Compound Dibutyl tin dichloride upregulates gene C15orf48. Compound Dibutyl tin dichloride upregulates gene ALDH8A1. Compound Dibutyl tin dichloride upregulates gene IL23A. Compound Dibutyl tin dichloride upregulates gene PDGFB. Compound Dibutyl tin dichloride upregulates gene HCAR3. Compound Dibutyl tin dichloride upregulates gene ANKRD20A17P. Compound Dibutyl tin dichloride upregulates gene GPX2. Compound Dibutyl tin dichloride upregulates gene MAP2. Compound Dibutyl tin dichloride upregulates gene ABCC3. Compound Dibutyl tin dichloride upregulates gene IL13RA2. Compound Dibutyl tin dichloride upregulates gene PMAIP1. Compound Dibutyl tin dichloride upregulates gene TRAF1. Compound Dibutyl tin dichloride upregulates gene CRYAB. Compound Dibutyl tin dichloride upregulates gene DDIT4. Compound Dibutyl tin dichloride upregulates gene ACADVL. Compound Dibutyl tin dichloride upregulates gene LPIN3. Compound Dibutyl tin dichloride upregulates gene IL7R. Compound Dibutyl tin dichloride upregulates gene MINDY1. Compound Dibutyl tin dichloride upregulates gene EGF. Compound Dibutyl tin dichloride upregulates gene TRIM16L. Compound Dibutyl tin dichloride upregulates gene SQSTM1. Compound Dibutyl tin dichloride upregulates gene ISG20. Compound Dibutyl tin dichloride upregulates gene NRCAM. Compound Dibutyl tin dichloride upregulates gene STC1. Compound Dibutyl tin dichloride upregulates gene KCNQ3. Compound Dibutyl tin dichloride upregulates gene DMTN. Compound Dibutyl tin dichloride upregulates gene POU5F1. Compound Dibutyl tin dichloride upregulates gene LY96. Compound Dibutyl tin dichloride upregulates gene INPP4B. Compound Dibutyl tin dichloride upregulates gene GBP5. Compound Dibutyl tin dichloride upregulates gene RGPD3. Compound Dibutyl tin dichloride upregulates gene TXNRD1. Compound Dibutyl tin dichloride upregulates gene PPP1R15A. Compound Dibutyl tin dichloride upregulates gene SMIM22. Compound Dibutyl tin dichloride upregulates gene CLU. Compound Dibutyl tin dichloride upregulates gene TREM1. Compound Dibutyl tin dichloride upregulates gene KCNK1. Compound Dibutyl tin dichloride upregulates gene LINC00520. Compound Dibutyl tin dichloride upregulates gene AGR2. Compound Dibutyl tin dichloride upregulates gene NANOG. Compound Dibutyl tin dichloride upregulates gene PHLDA2. Compound Dibutyl tin dichloride upregulates gene NCF2. Compound Dibutyl tin dichloride upregulates gene TPI1. Compound Dibutyl tin dichloride upregulates gene ZNF469. Compound Dibutyl tin dichloride upregulates gene FTH1. Compound Dibutyl tin dichloride upregulates gene SLC22A1. Compound Dibutyl tin dichloride upregulates gene GPAT3. Compound Dibutyl tin dichloride upregulates gene CXCL8. Compound Dibutyl tin dichloride upregulates gene PLIN2. Compound Dibutyl tin dichloride upregulates gene TNFAIP2. Compound Dibutyl tin dichloride upregulates gene PPP1R13B. Compound Dibutyl tin dichloride upregulates gene ABCC2. Compound Dibutyl tin dichloride upregulates gene UCHL1. Compound Dibutyl tin dichloride upregulates gene SLIT2. Compound Dibutyl tin dichloride upregulates gene MMP1. Compound Dibutyl tin dichloride upregulates gene ST3GAL1. Compound Dibutyl tin dichloride upregulates gene CDH2. Compound Dibutyl tin dichloride upregulates gene F2RL2. Compound Dibutyl tin dichloride upregulates gene ENO2. Compound Dibutyl tin dichloride upregulates gene DENND3. Compound Dibutyl tin dichloride downregulates gene APLN. Compound Dibutyl tin dichloride downregulates gene NEFL. Compound Dibutyl tin dichloride downregulates gene SERPINB4. Compound Dibutyl tin dichloride downregulates gene TMEM97. Compound Dibutyl tin dichloride downregulates gene CYP1B1. Compound Dibutyl tin dichloride downregulates gene ATP12A. Compound Dibutyl tin dichloride downregulates gene KRT4. Compound Dibutyl tin dichloride downregulates gene CCL2. Compound Dibutyl tin dichloride downregulates gene H2AC11. Compound Dibutyl tin dichloride downregulates gene CYP24A1. Compound Dibutyl tin dichloride downregulates gene IFIT1. Compound Dibutyl tin dichloride downregulates gene MSMO1. Compound Dibutyl tin dichloride downregulates gene CXCL14. Compound Dibutyl tin dichloride downregulates gene ASNS. Compound Dibutyl tin dichloride downregulates gene S100A8. Compound Dibutyl tin dichloride downregulates gene SMIM19. Compound Dibutyl tin dichloride downregulates gene ZNF367. Compound Dibutyl tin dichloride downregulates gene HMGCS1. Compound Dibutyl tin dichloride downregulates gene CXCL11. Compound Dibutyl tin dichloride downregulates gene SERPINB3. Compound Dibutyl tin dichloride upregulates gene IGHV3-23. Compound Dibutyl tin dichloride downregulates gene KRT6A. Compound Dibutyl tin dichloride downregulates gene KRT14. Compound Dibutyl tin dichloride downregulates gene KRT17. Compound Dibutyl tin dichloride downregulates gene KRT5. Compound Dibutyl tin dichloride upregulates gene ABL1. Compound Dibutyl tin dichloride upregulates gene TPRKB. Compound Dibutyl tin dichloride upregulates gene IFIT1. Compound Dibutyl tin dichloride upregulates gene S100A4. Compound Dibutyl tin dichloride upregulates gene IFI44. Compound Dibutyl tin dichloride upregulates gene IL36B. Compound Dibutyl tin dichloride upregulates gene PLK3. Compound Dibutyl tin dichloride upregulates gene H2BC21. Compound Dibutyl tin dichloride downregulates gene IGHV3-23. Compound Dibutyl tin dichloride downregulates gene S100A2. Compound Dibutyl tin dichloride downregulates gene KRT14. Compound Dibutyl tin dichloride downregulates gene KRT5. Compound Dibutyl tin dichloride downregulates gene TLCD3A. Compound Dibutyl tin dichloride downregulates gene KRT6A. Compound Dibutyl tin dichloride downregulates gene GJB1. Compound Dibutyl tin dichloride upregulates gene IGF1R. Compound Dibutyl tin dichloride upregulates gene MGC70870. Compound Dibutyl tin dichloride upregulates gene PAX8. Compound Dibutyl tin dichloride upregulates gene HDAC9. Compound Dibutyl tin dichloride upregulates gene RELN. Compound Dibutyl tin dichloride upregulates gene CYP19A1. Compound Dibutyl tin dichloride '"
      ]
     },
     "execution_count": 59,
     "metadata": {},
     "output_type": "execute_result"
    }
   ],
   "source": [
    "context_str[:45500]"
   ]
  },
  {
   "cell_type": "code",
   "execution_count": 47,
   "metadata": {},
   "outputs": [
    {
     "name": "stdout",
     "output_type": "stream",
     "text": [
      "71\n",
      "(rdflib.term.Literal('WHIVNJATOVLWBW-SNAWJCMRSA-N', datatype=rdflib.term.URIRef('http://www.w3.org/2001/XMLSchema#string')), rdflib.term.URIRef('compound:Butanone_oxime'))\n",
      "(rdflib.term.Literal('YMLFYGFCXGNERH-UHFFFAOYSA-K', datatype=rdflib.term.URIRef('http://www.w3.org/2001/XMLSchema#string')), rdflib.term.URIRef('compound:Butyl_tin_trichloride'))\n",
      "(rdflib.term.Literal('RJGHQTVXGKYATR-UHFFFAOYSA-L', datatype=rdflib.term.URIRef('http://www.w3.org/2001/XMLSchema#string')), rdflib.term.URIRef('compound:Dibutyl_tin_dichloride'))\n",
      "(rdflib.term.Literal('PDQAZBWRQCGBEV-UHFFFAOYSA-N', datatype=rdflib.term.URIRef('http://www.w3.org/2001/XMLSchema#string')), rdflib.term.URIRef('compound:Imidazolidinethione'))\n",
      "(rdflib.term.Literal('YHMYGUUIMTVXNW-UHFFFAOYSA-N', datatype=rdflib.term.URIRef('http://www.w3.org/2001/XMLSchema#string')), rdflib.term.URIRef('compound:Mercapto_benzimidazole'))\n",
      "(rdflib.term.Literal('XLSZMDLNRCVEIJ-UHFFFAOYSA-N', datatype=rdflib.term.URIRef('http://www.w3.org/2001/XMLSchema#string')), rdflib.term.URIRef('compound:Methylimidazole_two'))\n",
      "(rdflib.term.Literal('GCTFWCDSFPMHHS-UHFFFAOYSA-M', datatype=rdflib.term.URIRef('http://www.w3.org/2001/XMLSchema#string')), rdflib.term.URIRef('compound:Tributyl_tin_chloride'))\n",
      "(rdflib.term.Literal('ZAJAQTYSTDTMCU-UHFFFAOYSA-N', datatype=rdflib.term.URIRef('http://www.w3.org/2001/XMLSchema#string')), rdflib.term.URIRef('compound:Aminobenzenesulfonic_acid'))\n",
      "(rdflib.term.Literal('UCMIRNVEIXFBKS-UHFFFAOYSA-N', datatype=rdflib.term.URIRef('http://www.w3.org/2001/XMLSchema#string')), rdflib.term.URIRef('compound:Aminopropanoic_acid'))\n",
      "(rdflib.term.Literal('GZGZVOLBULPDFD-UHFFFAOYSA-N', datatype=rdflib.term.URIRef('http://www.w3.org/2001/XMLSchema#string')), rdflib.term.URIRef('compound:Amino_nitroanilino_ethanol'))\n",
      "(rdflib.term.Literal('RNLHGQLZWXBQNY-UHFFFAOYSA-N', datatype=rdflib.term.URIRef('http://www.w3.org/2001/XMLSchema#string')), rdflib.term.URIRef('compound:Amino_trimethyl_cyclohexylmethyl_amine'))\n",
      "(rdflib.term.Literal('QIGBRXMKCJKVMJ-UHFFFAOYSA-N', datatype=rdflib.term.URIRef('http://www.w3.org/2001/XMLSchema#string')), rdflib.term.URIRef('compound:Benzenediol'))\n",
      "(rdflib.term.Literal('JQVAPEJNIZULEK-UHFFFAOYSA-N', datatype=rdflib.term.URIRef('http://www.w3.org/2001/XMLSchema#string')), rdflib.term.URIRef('compound:Benzenediol_chloro'))\n",
      "(rdflib.term.Literal('SRPWOOOHEPICQU-UHFFFAOYSA-N', datatype=rdflib.term.URIRef('http://www.w3.org/2001/XMLSchema#string')), rdflib.term.URIRef('compound:Benzenetricarboxylic_anhydride'))\n",
      "(rdflib.term.Literal('DMSMPAJRVJJAGA-UHFFFAOYSA-N', datatype=rdflib.term.URIRef('http://www.w3.org/2001/XMLSchema#string')), rdflib.term.URIRef('compound:Benzisothiazol'))\n",
      "(rdflib.term.Literal('YOUGRGFIHBUKRS-UHFFFAOYSA-N', datatype=rdflib.term.URIRef('http://www.w3.org/2001/XMLSchema#string')), rdflib.term.URIRef('compound:Benzyltrimethylammonium_chloride'))\n",
      "(rdflib.term.Literal('WHGYBXFWUBPSRW-VOXAOYDDSA-N', datatype=rdflib.term.URIRef('http://www.w3.org/2001/XMLSchema#string')), rdflib.term.URIRef('compound:Beta_cyclodextrin'))\n",
      "(rdflib.term.Literal('OAYXUHPQHDHDDZ-UHFFFAOYSA-N', datatype=rdflib.term.URIRef('http://www.w3.org/2001/XMLSchema#string')), rdflib.term.URIRef('compound:Butoxyethoxy_ethanol'))\n",
      "(rdflib.term.Literal('JBKVHLHDHHXQEQ-UHFFFAOYSA-N', datatype=rdflib.term.URIRef('http://www.w3.org/2001/XMLSchema#string')), rdflib.term.URIRef('compound:caprolactam'))\n",
      "(rdflib.term.Literal('PVNIIMVLHYAWGP-UHFFFAOYSA-N', datatype=rdflib.term.URIRef('http://www.w3.org/2001/XMLSchema#string')), rdflib.term.URIRef('compound:Carboxylpyridine'))\n",
      "(rdflib.term.Literal('VXIVSQZSERGHQP-UHFFFAOYSA-N', datatype=rdflib.term.URIRef('http://www.w3.org/2001/XMLSchema#string')), rdflib.term.URIRef('compound:Chloroacetamide'))\n",
      "(rdflib.term.Literal('FOCAUTSVDIKZOP-UHFFFAOYSA-N', datatype=rdflib.term.URIRef('http://www.w3.org/2001/XMLSchema#string')), rdflib.term.URIRef('compound:Monochloroacetic_acid'))\n",
      "(rdflib.term.Literal('PNPCRKVUWYDDST-UHFFFAOYSA-N', datatype=rdflib.term.URIRef('http://www.w3.org/2001/XMLSchema#string')), rdflib.term.URIRef('compound:Chloro_aniline'))\n",
      "(rdflib.term.Literal('CFKMVGJGLGKFKI-UHFFFAOYSA-N', datatype=rdflib.term.URIRef('http://www.w3.org/2001/XMLSchema#string')), rdflib.term.URIRef('compound:Chloro_methylphenol'))\n",
      "(rdflib.term.Literal('ZFXYFBGIUFBOJW-UHFFFAOYSA-N', datatype=rdflib.term.URIRef('http://www.w3.org/2001/XMLSchema#string')), rdflib.term.URIRef('compound:Dimethyl_tetrahydro_purine_dione'))\n",
      "(rdflib.term.Literal('LNTHITQWFMADLM-UHFFFAOYSA-N', datatype=rdflib.term.URIRef('http://www.w3.org/2001/XMLSchema#string')), rdflib.term.URIRef('compound:Gallic_acid'))\n",
      "(rdflib.term.Literal('XXMIOPMDWAUFGU-UHFFFAOYSA-N', datatype=rdflib.term.URIRef('http://www.w3.org/2001/XMLSchema#string')), rdflib.term.URIRef('compound:Hexanediol'))\n",
      "(rdflib.term.Literal('PLIKAWJENQZMHA-UHFFFAOYSA-N', datatype=rdflib.term.URIRef('http://www.w3.org/2001/XMLSchema#string')), rdflib.term.URIRef('compound:Hydroxy_aminobenzene'))\n",
      "(rdflib.term.Literal('LVTYICIALWPMFW-UHFFFAOYSA-N', datatype=rdflib.term.URIRef('http://www.w3.org/2001/XMLSchema#string')), rdflib.term.URIRef('compound:Propanediamine'))\n",
      "(rdflib.term.Literal('OUYCCCASQSFEME-UHFFFAOYSA-N', datatype=rdflib.term.URIRef('http://www.w3.org/2001/XMLSchema#string')), rdflib.term.URIRef('compound:L_Tyrosine'))\n",
      "(rdflib.term.Literal('XZWYZXLIPXDOLR-UHFFFAOYSA-N', datatype=rdflib.term.URIRef('http://www.w3.org/2001/XMLSchema#string')), rdflib.term.URIRef('compound:Metformin_hydrochloride'))\n",
      "(rdflib.term.Literal('SBGKURINHGJRFN-UHFFFAOYSA-N', datatype=rdflib.term.URIRef('http://www.w3.org/2001/XMLSchema#string')), rdflib.term.URIRef('compound:Methanesulfinic_acid'))\n",
      "(rdflib.term.Literal('YFNKIDBQEZZDLK-UHFFFAOYSA-N', datatype=rdflib.term.URIRef('http://www.w3.org/2001/XMLSchema#string')), rdflib.term.URIRef('compound:Methoxyethoxy_ethane'))\n",
      "(rdflib.term.Literal('JLGLQAWTXXGVEM-UHFFFAOYSA-N', datatype=rdflib.term.URIRef('http://www.w3.org/2001/XMLSchema#string')), rdflib.term.URIRef('compound:Methoxyethoxy_ethoxy_ethanol'))\n",
      "(rdflib.term.Literal('LMYRWZFENFIFIT-UHFFFAOYSA-N', datatype=rdflib.term.URIRef('http://www.w3.org/2001/XMLSchema#string')), rdflib.term.URIRef('compound:Methylbenzene_sulfonamide'))\n",
      "(rdflib.term.Literal('GPNYZBKIGXGYNU-UHFFFAOYSA-N', datatype=rdflib.term.URIRef('http://www.w3.org/2001/XMLSchema#string')), rdflib.term.URIRef('compound:Methylenebis_ethyl_tert_butylphenol'))\n",
      "(rdflib.term.Literal('BEGLCMHJXHIJLR-UHFFFAOYSA-N', datatype=rdflib.term.URIRef('http://www.w3.org/2001/XMLSchema#string')), rdflib.term.URIRef('compound:Methyl_isothiazolin_one'))\n",
      "(rdflib.term.Literal('YDONNITUKPKTIG-UHFFFAOYSA-N', datatype=rdflib.term.URIRef('http://www.w3.org/2001/XMLSchema#string')), rdflib.term.URIRef('compound:Nitrilotrimethanediyl_tris_phosphonic_acid'))\n",
      "(rdflib.term.Literal('FGVVTMRZYROCTH-UHFFFAOYSA-N', datatype=rdflib.term.URIRef('http://www.w3.org/2001/XMLSchema#string')), rdflib.term.URIRef('compound:Oxide_pyridinethiol'))\n",
      "(rdflib.term.Literal('RUOJZAUFBMNUDX-UHFFFAOYSA-N', datatype=rdflib.term.URIRef('http://www.w3.org/2001/XMLSchema#string')), rdflib.term.URIRef('compound:Propanediol_carbonate'))\n",
      "(rdflib.term.Literal('MAGFQRLKWCCTQJ-UHFFFAOYSA-N', datatype=rdflib.term.URIRef('http://www.w3.org/2001/XMLSchema#string')), rdflib.term.URIRef('compound:Sodium_vinylbenzenesulphonate'))\n",
      "(rdflib.term.Literal('HXJUTPCZVOIRIF-UHFFFAOYSA-N', datatype=rdflib.term.URIRef('http://www.w3.org/2001/XMLSchema#string')), rdflib.term.URIRef('compound:Sulfolane'))\n",
      "(rdflib.term.Literal('MQJKPEGWNLWLTK-UHFFFAOYSA-N', datatype=rdflib.term.URIRef('http://www.w3.org/2001/XMLSchema#string')), rdflib.term.URIRef('compound:Sulfonylbisbenzenamine'))\n",
      "(rdflib.term.Literal('RFKITWRHKUYMRJ-UHFFFAOYSA-N', datatype=rdflib.term.URIRef('http://www.w3.org/2001/XMLSchema#string')), rdflib.term.URIRef('compound:Tartrazine'))\n",
      "(rdflib.term.Literal('HUHGPYXAVBJSJV-UHFFFAOYSA-N', datatype=rdflib.term.URIRef('http://www.w3.org/2001/XMLSchema#string')), rdflib.term.URIRef('compound:Triazine_triethanol'))\n",
      "(rdflib.term.Literal('KLSJWNVTNUYHDU-UHFFFAOYSA-N', datatype=rdflib.term.URIRef('http://www.w3.org/2001/XMLSchema#string')), rdflib.term.URIRef('compound:Triazol_ylamine'))\n",
      "(rdflib.term.Literal('ZIBGPFATKBEMQZ-UHFFFAOYSA-N', datatype=rdflib.term.URIRef('http://www.w3.org/2001/XMLSchema#string')), rdflib.term.URIRef('compound:Triethylene_glycol'))\n",
      "(rdflib.term.Literal('QIVBCDIJIAJPQS-VIFPVBQESA-N', datatype=rdflib.term.URIRef('http://www.w3.org/2001/XMLSchema#string')), rdflib.term.URIRef('compound:Tryptophan'))\n",
      "(rdflib.term.Literal('AVKUERGKIZMTKX-YKLVJOERSA-N', datatype=rdflib.term.URIRef('http://www.w3.org/2001/XMLSchema#string')), rdflib.term.URIRef('compound:Ampicillin_Trihydrate'))\n",
      "(rdflib.term.Literal('IAOZJIPTCAWIRG-QWRGUYRKSA-N', datatype=rdflib.term.URIRef('http://www.w3.org/2001/XMLSchema#string')), rdflib.term.URIRef('compound:Aspartame'))\n",
      "(rdflib.term.Literal('XNEFYCZVKIDDMS-UHFFFAOYSA-N', datatype=rdflib.term.URIRef('http://www.w3.org/2001/XMLSchema#string')), rdflib.term.URIRef('compound:Avobenzone'))\n",
      "(rdflib.term.Literal('RYYVLZVUVIJVGH-UHFFFAOYSA-N', datatype=rdflib.term.URIRef('http://www.w3.org/2001/XMLSchema#string')), rdflib.term.URIRef('compound:Caffeine'))\n",
      "(rdflib.term.Literal('MMOXZBCLCQITDF-UHFFFAOYSA-N', datatype=rdflib.term.URIRef('http://www.w3.org/2001/XMLSchema#string')), rdflib.term.URIRef('compound:DEET'))\n",
      "(rdflib.term.Literal('FBPFZTCFMRRESA-IANNHFEVSA-N', datatype=rdflib.term.URIRef('http://www.w3.org/2001/XMLSchema#string')), rdflib.term.URIRef('compound:D_Sorbitol'))\n",
      "(rdflib.term.Literal('KCXVZYZYPLLWCC-UHFFFAOYSA-N', datatype=rdflib.term.URIRef('http://www.w3.org/2001/XMLSchema#string')), rdflib.term.URIRef('compound:EDTA_EGTA'))\n",
      "(rdflib.term.Literal('TZBJGXHYKVUXJN-UHFFFAOYSA-N', datatype=rdflib.term.URIRef('http://www.w3.org/2001/XMLSchema#string')), rdflib.term.URIRef('compound:Genistein'))\n",
      "(rdflib.term.Literal('FMJSMJQBSVNSBF-UHFFFAOYSA-N', datatype=rdflib.term.URIRef('http://www.w3.org/2001/XMLSchema#string')), rdflib.term.URIRef('compound:Octocrylene'))\n",
      "(rdflib.term.Literal('BPLBGHOLXOTWMN-MBNYWOFBSA-N', datatype=rdflib.term.URIRef('http://www.w3.org/2001/XMLSchema#string')), rdflib.term.URIRef('compound:Penicillin_VK'))\n",
      "(rdflib.term.Literal('WPYMKLBDIGXBTP-UHFFFAOYSA-N', datatype=rdflib.term.URIRef('http://www.w3.org/2001/XMLSchema#string')), rdflib.term.URIRef('compound:Sodium_Benzoate'))\n",
      "(rdflib.term.Literal('BAQAVOSOZGMPRM-RMEMJPMPSA-N', datatype=rdflib.term.URIRef('http://www.w3.org/2001/XMLSchema#string')), rdflib.term.URIRef('compound:Sucralose'))\n",
      "(rdflib.term.Literal('YAPQBXQYLJRXSA-UHFFFAOYSA-N', datatype=rdflib.term.URIRef('http://www.w3.org/2001/XMLSchema#string')), rdflib.term.URIRef('compound:Theobromine'))\n",
      "(rdflib.term.Literal('IGXZMQCLUNTWCC-UHFFFAOYSA-N', datatype=rdflib.term.URIRef('http://www.w3.org/2001/XMLSchema#string')), rdflib.term.URIRef('compound:Direct_Red_81'))\n",
      "(rdflib.term.Literal('BACYUWVYYTXETD-UHFFFAOYSA-N', datatype=rdflib.term.URIRef('http://www.w3.org/2001/XMLSchema#string')), rdflib.term.URIRef('compound:Dodecanoyl_methylglycine'))\n",
      "(rdflib.term.Literal('IAJNXBNRYMEYAZ-UHFFFAOYSA-N', datatype=rdflib.term.URIRef('http://www.w3.org/2001/XMLSchema#string')), rdflib.term.URIRef('compound:Ethyl_cyano_diphenylacrylate'))\n",
      "(rdflib.term.Literal('DUKPKQFHJQGTGU-UHFFFAOYSA-N', datatype=rdflib.term.URIRef('http://www.w3.org/2001/XMLSchema#string')), rdflib.term.URIRef('compound:Hexyl_salicylate'))\n",
      "(rdflib.term.Literal('WDQFELCEOPFLCZ-UHFFFAOYSA-N', datatype=rdflib.term.URIRef('http://www.w3.org/2001/XMLSchema#string')), rdflib.term.URIRef('compound:Hydroxyethyl_pyrrolidinone'))\n",
      "(rdflib.term.Literal('ZMSQJSMSLXVTKN-UHFFFAOYSA-N', datatype=rdflib.term.URIRef('http://www.w3.org/2001/XMLSchema#string')), rdflib.term.URIRef('compound:Oxydiethylene_bis_morpholine'))\n",
      "(rdflib.term.Literal('XQVWYOYUZDUNRW-UHFFFAOYSA-N', datatype=rdflib.term.URIRef('http://www.w3.org/2001/XMLSchema#string')), rdflib.term.URIRef('compound:Phenyl_naphthylamine'))\n",
      "(rdflib.term.Literal('CVHZOJJKTDOEJC-UHFFFAOYSA-N', datatype=rdflib.term.URIRef('http://www.w3.org/2001/XMLSchema#string')), rdflib.term.URIRef('compound:Saccharin'))\n",
      "(rdflib.term.Literal('UZFMOKQJFYMBGY-UHFFFAOYSA-N', datatype=rdflib.term.URIRef('http://www.w3.org/2001/XMLSchema#string')), rdflib.term.URIRef('compound:TEMPO'))\n",
      "(rdflib.term.Literal('DZLFLBLQUQXARW-UHFFFAOYSA-N', datatype=rdflib.term.URIRef('http://www.w3.org/2001/XMLSchema#string')), rdflib.term.URIRef('compound:Tetrabutylammonium_bromide'))\n"
     ]
    }
   ],
   "source": [
    "q = \"\"\"\n",
    "PREFIX sio: <http://semanticscience.org/resource/SIO/>\n",
    "PREFIX cheminf: <http://semanticscience.org/resource/CHEMINF/>\n",
    "\n",
    "SELECT ?inchikey ?compound\n",
    "WHERE {\n",
    "    ?p rdf:type cheminf:CHEMINF_000399 .\n",
    "    ?p sio:SIO_000300 ?inchikey .\n",
    "    ?p sio:SIO_000011 ?compound .\n",
    "    \n",
    "}\n",
    "\"\"\"\n",
    "\n",
    "\n",
    "results = g.query(q)\n",
    "print(len(results))\n",
    "\n",
    "for r in results:\n",
    "    print(str(r))"
   ]
  },
  {
   "cell_type": "code",
   "execution_count": null,
   "metadata": {},
   "outputs": [],
   "source": []
  }
 ],
 "metadata": {
  "kernelspec": {
   "display_name": "Python 3",
   "language": "python",
   "name": "python3"
  },
  "language_info": {
   "codemirror_mode": {
    "name": "ipython",
    "version": 3
   },
   "file_extension": ".py",
   "mimetype": "text/x-python",
   "name": "python",
   "nbconvert_exporter": "python",
   "pygments_lexer": "ipython3",
   "version": "3.9.19"
  }
 },
 "nbformat": 4,
 "nbformat_minor": 2
}
