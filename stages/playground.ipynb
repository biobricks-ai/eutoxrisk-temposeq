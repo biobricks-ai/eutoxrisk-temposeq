{
 "cells": [
  {
   "cell_type": "code",
   "execution_count": 2,
   "metadata": {},
   "outputs": [
    {
     "name": "stdout",
     "output_type": "stream",
     "text": [
      "Defaulting to user installation because normal site-packages is not writeable\n",
      "Requirement already satisfied: rdflib in /home/vscode/.local/lib/python3.9/site-packages (7.0.0)\n",
      "Requirement already satisfied: isodate<0.7.0,>=0.6.0 in /home/vscode/.local/lib/python3.9/site-packages (from rdflib) (0.6.1)\n",
      "Requirement already satisfied: pyparsing<4,>=2.1.0 in /home/vscode/.local/lib/python3.9/site-packages (from rdflib) (3.1.4)\n",
      "Requirement already satisfied: six in /home/vscode/.local/lib/python3.9/site-packages (from isodate<0.7.0,>=0.6.0->rdflib) (1.16.0)\n",
      "\n",
      "\u001b[1m[\u001b[0m\u001b[34;49mnotice\u001b[0m\u001b[1;39;49m]\u001b[0m\u001b[39;49m A new release of pip is available: \u001b[0m\u001b[31;49m23.0.1\u001b[0m\u001b[39;49m -> \u001b[0m\u001b[32;49m24.2\u001b[0m\n",
      "\u001b[1m[\u001b[0m\u001b[34;49mnotice\u001b[0m\u001b[1;39;49m]\u001b[0m\u001b[39;49m To update, run: \u001b[0m\u001b[32;49mpip install --upgrade pip\u001b[0m\n",
      "Defaulting to user installation because normal site-packages is not writeable\n",
      "Requirement already satisfied: rdflib-hdt in /home/vscode/.local/lib/python3.9/site-packages (3.1)\n",
      "Requirement already satisfied: rdflib>=4.2 in /home/vscode/.local/lib/python3.9/site-packages (from rdflib-hdt) (7.0.0)\n",
      "Requirement already satisfied: pybind11>=2.2.4 in /home/vscode/.local/lib/python3.9/site-packages (from rdflib-hdt) (2.13.6)\n",
      "Requirement already satisfied: pyparsing<4,>=2.1.0 in /home/vscode/.local/lib/python3.9/site-packages (from rdflib>=4.2->rdflib-hdt) (3.1.4)\n",
      "Requirement already satisfied: isodate<0.7.0,>=0.6.0 in /home/vscode/.local/lib/python3.9/site-packages (from rdflib>=4.2->rdflib-hdt) (0.6.1)\n",
      "Requirement already satisfied: six in /home/vscode/.local/lib/python3.9/site-packages (from isodate<0.7.0,>=0.6.0->rdflib>=4.2->rdflib-hdt) (1.16.0)\n",
      "\n",
      "\u001b[1m[\u001b[0m\u001b[34;49mnotice\u001b[0m\u001b[1;39;49m]\u001b[0m\u001b[39;49m A new release of pip is available: \u001b[0m\u001b[31;49m23.0.1\u001b[0m\u001b[39;49m -> \u001b[0m\u001b[32;49m24.2\u001b[0m\n",
      "\u001b[1m[\u001b[0m\u001b[34;49mnotice\u001b[0m\u001b[1;39;49m]\u001b[0m\u001b[39;49m To update, run: \u001b[0m\u001b[32;49mpip install --upgrade pip\u001b[0m\n"
     ]
    }
   ],
   "source": [
    "!pip install rdflib\n",
    "!pip install rdflib-hdt"
   ]
  },
  {
   "cell_type": "code",
   "execution_count": 3,
   "metadata": {},
   "outputs": [],
   "source": [
    "import pandas as pd\n",
    "import biobricks as bb\n",
    "from rdflib import Graph, Namespace\n",
    "from rdflib.plugins.stores import sparqlstore\n",
    "from rdflib_hdt import HDTStore\n",
    "import rdflib"
   ]
  },
  {
   "cell_type": "code",
   "execution_count": 4,
   "metadata": {},
   "outputs": [],
   "source": [
    "# Recipe: anytime crepes\n",
    "# Ingredients: egg, milk, whole wheat flour"
   ]
  },
  {
   "cell_type": "code",
   "execution_count": 5,
   "metadata": {},
   "outputs": [
    {
     "data": {
      "text/plain": [
       "rdflib.term.URIRef('https://www.food.com/recipe/327539')"
      ]
     },
     "execution_count": 5,
     "metadata": {},
     "output_type": "execute_result"
    }
   ],
   "source": [
    "# vocabularies:\n",
    "# http://purl.org/heals/food/  --> Recipe\n",
    "# http://purl.org/heals/ingredient -> ChickenEgg, CowMilk, WholeWheatFlour\n",
    "\n",
    "# First node in the graph represents recipe\n",
    "# URI za recept\n",
    "g = rdflib.Graph()\n",
    "uri = \"https://www.food.com/recipe/327539\"\n",
    "s = rdflib.URIRef(uri)\n",
    "s"
   ]
  },
  {
   "cell_type": "code",
   "execution_count": 6,
   "metadata": {},
   "outputs": [
    {
     "data": {
      "text/plain": [
       "rdflib.term.URIRef('http://www.w3.org/1999/02/22-rdf-syntax-ns#type')"
      ]
     },
     "execution_count": 6,
     "metadata": {},
     "output_type": "execute_result"
    }
   ],
   "source": [
    "from rdflib.namespace import RDF\n",
    "\n",
    "# Second node in the graph represents type\n",
    "p = RDF.type\n",
    "p"
   ]
  },
  {
   "cell_type": "code",
   "execution_count": 7,
   "metadata": {},
   "outputs": [],
   "source": [
    "nm = g.namespace_manager\n",
    "\n",
    "uri = \"http://purl.org/heals/food/\"\n",
    "ns_wtm = rdflib.Namespace(uri)\n",
    "prefix = \"wtm\"\n",
    "nm.bind(prefix, ns_wtm)"
   ]
  },
  {
   "cell_type": "code",
   "execution_count": 8,
   "metadata": {},
   "outputs": [
    {
     "data": {
      "text/plain": [
       "<generator object Graph.namespaces at 0x78e7d52ec2e0>"
      ]
     },
     "execution_count": 8,
     "metadata": {},
     "output_type": "execute_result"
    }
   ],
   "source": [
    "g.namespaces()"
   ]
  },
  {
   "cell_type": "code",
   "execution_count": 21,
   "metadata": {},
   "outputs": [
    {
     "data": {
      "text/plain": [
       "rdflib.term.URIRef('http://purl.org/heals/food/Recipe')"
      ]
     },
     "execution_count": 21,
     "metadata": {},
     "output_type": "execute_result"
    }
   ],
   "source": [
    "o = ns_wtm.Recipe\n",
    "o"
   ]
  },
  {
   "cell_type": "code",
   "execution_count": 10,
   "metadata": {},
   "outputs": [
    {
     "data": {
      "text/plain": [
       "rdflib.term.URIRef('https://www.food.com/recipe/327539')"
      ]
     },
     "execution_count": 10,
     "metadata": {},
     "output_type": "execute_result"
    }
   ],
   "source": [
    "s"
   ]
  },
  {
   "cell_type": "code",
   "execution_count": 11,
   "metadata": {},
   "outputs": [
    {
     "data": {
      "text/plain": [
       "rdflib.term.URIRef('http://www.w3.org/1999/02/22-rdf-syntax-ns#type')"
      ]
     },
     "execution_count": 11,
     "metadata": {},
     "output_type": "execute_result"
    }
   ],
   "source": [
    "p"
   ]
  },
  {
   "cell_type": "code",
   "execution_count": 12,
   "metadata": {},
   "outputs": [
    {
     "data": {
      "text/plain": [
       "<Graph identifier=Nc8c2a0605c694e0a9f613d20875ca4c1 (<class 'rdflib.graph.Graph'>)>"
      ]
     },
     "execution_count": 12,
     "metadata": {},
     "output_type": "execute_result"
    }
   ],
   "source": [
    "g.add((s,p,o))"
   ]
  },
  {
   "cell_type": "code",
   "execution_count": 13,
   "metadata": {},
   "outputs": [],
   "source": [
    "p = ns_wtm.hasCookTime"
   ]
  },
  {
   "cell_type": "code",
   "execution_count": 14,
   "metadata": {},
   "outputs": [],
   "source": [
    "from rdflib.namespace import XSD"
   ]
  },
  {
   "cell_type": "code",
   "execution_count": 15,
   "metadata": {},
   "outputs": [],
   "source": [
    "o = rdflib.Literal(\"8\", datatype=XSD.integer)"
   ]
  },
  {
   "cell_type": "code",
   "execution_count": 16,
   "metadata": {},
   "outputs": [
    {
     "data": {
      "text/plain": [
       "<Graph identifier=Nc8c2a0605c694e0a9f613d20875ca4c1 (<class 'rdflib.graph.Graph'>)>"
      ]
     },
     "execution_count": 16,
     "metadata": {},
     "output_type": "execute_result"
    }
   ],
   "source": [
    "g.add((s, p, o))"
   ]
  },
  {
   "cell_type": "code",
   "execution_count": 17,
   "metadata": {},
   "outputs": [],
   "source": [
    "# Graf je v obliki tripletov (subject, predicate, object)\n",
    "# Vsak node je potrebno definirati z utreznim vocabularyjem\n",
    "\n",
    "# subject           |  predicate            |  object\n",
    "# recept id 472398  | tip (namespace RDF)   |  recept (namespace wtm = http://purl.org/heals/food/)\n",
    "# recept id 472398  | hasCookTime (namespace wtm)   | 8 (namespace XSD)\n",
    "# recept id 472398  | hasIngredient (namespace wtm)   | egg (namespace ind = http://purl.org/heals/ingredient/)\n",
    "# recept id 472398  | hasIngredient (namespace wtm)   | milk (namespace ind = http://purl.org/heals/ingredient/)\n",
    "# recept id 472398  | hasIngredient (namespace wtm)   | flour (namespace ind = http://purl.org/heals/ingredient/)"
   ]
  },
  {
   "cell_type": "code",
   "execution_count": 18,
   "metadata": {},
   "outputs": [
    {
     "name": "stdout",
     "output_type": "stream",
     "text": [
      "https://www.food.com/recipe/327539 http://www.w3.org/1999/02/22-rdf-syntax-ns#type http://purl.org/heals/food/Recipex\n",
      "https://www.food.com/recipe/327539 http://purl.org/heals/food/hasCookTime 8\n"
     ]
    }
   ],
   "source": [
    "for s, p, o in g:\n",
    "    print(s, p, o)"
   ]
  },
  {
   "cell_type": "code",
   "execution_count": 19,
   "metadata": {},
   "outputs": [
    {
     "name": "stdout",
     "output_type": "stream",
     "text": [
      "@prefix wtm: <http://purl.org/heals/food/> .\n",
      "@prefix xsd: <http://www.w3.org/2001/XMLSchema#> .\n",
      "\n",
      "<https://www.food.com/recipe/327539> a wtm:Recipex ;\n",
      "    wtm:hasCookTime 8 .\n",
      "\n",
      "\n"
     ]
    }
   ],
   "source": [
    "ttl = g.serialize(format=\"ttl\")\n",
    "print(ttl)"
   ]
  },
  {
   "cell_type": "code",
   "execution_count": 20,
   "metadata": {},
   "outputs": [],
   "source": [
    "# Compound name \"ABC\"\n",
    "# Compound deregulates gene\n",
    "# Gene name \"XYZ\"\n",
    "# Gene isPartOf pathway\n",
    "# Pathway"
   ]
  }
 ],
 "metadata": {
  "kernelspec": {
   "display_name": "Python 3",
   "language": "python",
   "name": "python3"
  },
  "language_info": {
   "codemirror_mode": {
    "name": "ipython",
    "version": 3
   },
   "file_extension": ".py",
   "mimetype": "text/x-python",
   "name": "python",
   "nbconvert_exporter": "python",
   "pygments_lexer": "ipython3",
   "version": "3.9.19"
  }
 },
 "nbformat": 4,
 "nbformat_minor": 2
}
